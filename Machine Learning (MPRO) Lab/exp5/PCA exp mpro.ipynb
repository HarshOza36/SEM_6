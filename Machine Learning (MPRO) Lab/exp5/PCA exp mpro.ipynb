{
 "cells": [
  {
   "cell_type": "code",
   "execution_count": 1,
   "metadata": {},
   "outputs": [],
   "source": [
    "import numpy as np"
   ]
  },
  {
   "cell_type": "code",
   "execution_count": 2,
   "metadata": {},
   "outputs": [],
   "source": [
    "from numpy import linalg as la"
   ]
  },
  {
   "cell_type": "code",
   "execution_count": 3,
   "metadata": {},
   "outputs": [
    {
     "name": "stdout",
     "output_type": "stream",
     "text": [
      "[[2.5 0.5 2.2 1.9 3.1 2.3 2.  1.  1.5 1.2]\n",
      " [2.4 0.7 2.9 2.2 3.  2.7 1.6 1.1 1.6 0.9]]\n",
      "1.8199999999999998\n",
      "1.9100000000000001\n"
     ]
    }
   ],
   "source": [
    "r=64.\n",
    "x=np.array([2.5,0.5,2.2,1.9,3.1,2.3,2.0,1.0,1.5,1.2])\n",
    "y=np.array([2.4,0.7,2.9,2.2,3.0,2.7,1.6,1.1,1.6,0.9])\n",
    "data = np.array([x, y])\n",
    "print(data)\n",
    "xMean = np.mean(x)\n",
    "yMean = np.mean(y)\n",
    "print(xMean)\n",
    "print(yMean)"
   ]
  },
  {
   "cell_type": "code",
   "execution_count": 5,
   "metadata": {},
   "outputs": [
    {
     "name": "stdout",
     "output_type": "stream",
     "text": [
      "[[ 0.68 -1.32  0.38  0.08  1.28  0.48  0.18 -0.82 -0.32 -0.62]\n",
      " [ 0.49 -1.21  0.99  0.29  1.09  0.79 -0.31 -0.81 -0.31 -1.01]]\n"
     ]
    }
   ],
   "source": [
    "meanAdjusted = np.zeros((2, 10))\n",
    "for i in range(len(data[0])):\n",
    "    meanAdjusted[0][i] = data[0][i] - xMean\n",
    "for i in range(len(data[1])):\n",
    "    meanAdjusted[1][i] = data[1][i] - yMean\n",
    "print(meanAdjusted)"
   ]
  },
  {
   "cell_type": "code",
   "execution_count": 6,
   "metadata": {},
   "outputs": [
    {
     "name": "stdout",
     "output_type": "stream",
     "text": [
      "[[0.60177778 0.60422222]\n",
      " [0.60422222 0.71655556]]\n",
      "Eigenvectors \n",
      "[[-0.7397818  -0.67284685]\n",
      " [ 0.67284685 -0.7397818 ]]\n",
      "\n",
      "Eigenvalues \n",
      "[0.05222517 1.26610816]\n"
     ]
    }
   ],
   "source": [
    "cov_mat = np.cov(data)\n",
    "print(cov_mat)\n",
    "eig_vals, eig_vecs = np.linalg.eig(cov_mat)\n",
    "print('Eigenvectors \\n%s' %eig_vecs)\n",
    "print('\\nEigenvalues \\n%s' %eig_vals)"
   ]
  },
  {
   "cell_type": "code",
   "execution_count": 7,
   "metadata": {},
   "outputs": [],
   "source": [
    "# Make a list of (eigenvalue, eigenvector) tuples\n",
    "eig_pairs = [(np.abs(eig_vals[i]), eig_vecs[:,i]) for i in range(len(eig_vals))]"
   ]
  },
  {
   "cell_type": "code",
   "execution_count": 8,
   "metadata": {},
   "outputs": [],
   "source": [
    "# Sort the (eigenvalue, eigenvector) tuples from high to low\n",
    "eig_pairs.sort()\n",
    "eig_pairs.reverse()"
   ]
  },
  {
   "cell_type": "code",
   "execution_count": 9,
   "metadata": {},
   "outputs": [
    {
     "name": "stdout",
     "output_type": "stream",
     "text": [
      "Eigenvalues in descending order:\n",
      "1.2661081617014531\n",
      "0.05222517163188023\n"
     ]
    }
   ],
   "source": [
    "# Visually confirm that the list is correctly sorted by decreasing eigenvalues\n",
    "print('Eigenvalues in descending order:')\n",
    "for i in eig_pairs:\n",
    "    print(i[0])"
   ]
  },
  {
   "cell_type": "code",
   "execution_count": 10,
   "metadata": {},
   "outputs": [
    {
     "name": "stdout",
     "output_type": "stream",
     "text": [
      "Eigenvectors in descending order:\n",
      "[-0.67284685 -0.7397818 ]\n",
      "[-0.7397818   0.67284685]\n"
     ]
    }
   ],
   "source": [
    "print('Eigenvectors in descending order:')\n",
    "for i in eig_pairs:\n",
    "    print(i[1])"
   ]
  },
  {
   "cell_type": "code",
   "execution_count": 11,
   "metadata": {},
   "outputs": [
    {
     "data": {
      "text/plain": [
       "array([-0.67284685, -0.7397818 ])"
      ]
     },
     "execution_count": 11,
     "metadata": {},
     "output_type": "execute_result"
    }
   ],
   "source": [
    "eig_pairs[0][1]"
   ]
  },
  {
   "cell_type": "code",
   "execution_count": 12,
   "metadata": {},
   "outputs": [
    {
     "name": "stdout",
     "output_type": "stream",
     "text": [
      "[[-0.82002894 -0.17335667]\n",
      " [ 1.78329382  0.16236729]\n",
      " [-0.98806579  0.3850013 ]\n",
      " [-0.26836447  0.13594304]\n",
      " [-1.66760613 -0.21351764]\n",
      " [-0.90739411  0.17645374]\n",
      " [ 0.10821993 -0.34174325]\n",
      " [ 1.15095768  0.06161513]\n",
      " [ 0.44464335  0.02814765]\n",
      " [ 1.16434467 -0.2209106 ]]\n"
     ]
    }
   ],
   "source": [
    "transformedData1 = np.matmul(meanAdjusted.T, eig_pairs[0][1])\n",
    "transformedData2 = np.matmul(meanAdjusted.T, eig_pairs[1][1])\n",
    "transformedData =[transformedData1,transformedData2]\n",
    "transformedData =np.transpose(transformedData)\n",
    "print(transformedData)"
   ]
  },
  {
   "cell_type": "code",
   "execution_count": null,
   "metadata": {},
   "outputs": [],
   "source": []
  }
 ],
 "metadata": {
  "kernelspec": {
   "display_name": "Python 3",
   "language": "python",
   "name": "python3"
  },
  "language_info": {
   "codemirror_mode": {
    "name": "ipython",
    "version": 3
   },
   "file_extension": ".py",
   "mimetype": "text/x-python",
   "name": "python",
   "nbconvert_exporter": "python",
   "pygments_lexer": "ipython3",
   "version": "3.7.1"
  }
 },
 "nbformat": 4,
 "nbformat_minor": 2
}
