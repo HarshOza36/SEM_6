{
 "cells": [
  {
   "cell_type": "code",
   "execution_count": 1,
   "metadata": {},
   "outputs": [],
   "source": [
    "import numpy as np\n",
    "from numpy import linalg as la"
   ]
  },
  {
   "cell_type": "code",
   "execution_count": 2,
   "metadata": {},
   "outputs": [
    {
     "name": "stdout",
     "output_type": "stream",
     "text": [
      "[[7 4 6 8 8 7 5 9 7 8]\n",
      " [4 1 3 6 5 2 3 5 4 2]\n",
      " [3 8 5 1 7 9 3 8 5 2]]\n",
      "6.9\n",
      "3.5\n",
      "5.1\n"
     ]
    }
   ],
   "source": [
    "r=64.\n",
    "x=np.array([7,4,6,8,8,7,5,9,7,8])\n",
    "y=np.array([4,1,3,6,5,2,3,5,4,2])\n",
    "z=np.array([3,8,5,1,7,9,3,8,5,2])\n",
    "data = np.array([x, y,z])\n",
    "print(data)\n",
    "xMean = np.mean(x)\n",
    "yMean = np.mean(y)\n",
    "zMean = np.mean(z)\n",
    "print(xMean)\n",
    "print(yMean)\n",
    "print(zMean)"
   ]
  },
  {
   "cell_type": "code",
   "execution_count": 3,
   "metadata": {},
   "outputs": [
    {
     "name": "stdout",
     "output_type": "stream",
     "text": [
      "[[ 0.1 -2.9 -0.9  1.1  1.1  0.1 -1.9  2.1  0.1  1.1]\n",
      " [ 0.5 -2.5 -0.5  2.5  1.5 -1.5 -0.5  1.5  0.5 -1.5]\n",
      " [-2.1  2.9 -0.1 -4.1  1.9  3.9 -2.1  2.9 -0.1 -3.1]]\n"
     ]
    }
   ],
   "source": [
    "meanAdjusted = np.zeros((3, 10))\n",
    "for i in range(len(data[0])):\n",
    "    meanAdjusted[0][i] = data[0][i] - xMean\n",
    "for i in range(len(data[1])):\n",
    "    meanAdjusted[1][i] = data[1][i] - yMean\n",
    "for i in range(len(data[2])):\n",
    "    meanAdjusted[2][i] = data[2][i] - zMean\n",
    "print(meanAdjusted)"
   ]
  },
  {
   "cell_type": "code",
   "execution_count": 4,
   "metadata": {},
   "outputs": [
    {
     "name": "stdout",
     "output_type": "stream",
     "text": [
      "[[ 2.32222222  1.61111111 -0.43333333]\n",
      " [ 1.61111111  2.5        -1.27777778]\n",
      " [-0.43333333 -1.27777778  7.87777778]]\n",
      "Eigenvectors \n",
      "[[-0.70172743  0.69903712 -0.1375708 ]\n",
      " [ 0.70745703  0.66088917 -0.25045969]\n",
      " [ 0.08416157  0.27307986  0.95830278]]\n",
      "\n",
      "Eigenvalues \n",
      "[0.74992815 3.67612927 8.27394258]\n"
     ]
    }
   ],
   "source": [
    "cov_mat = np.cov(data)\n",
    "print(cov_mat)\n",
    "eig_vals, eig_vecs = np.linalg.eig(cov_mat)\n",
    "print('Eigenvectors \\n%s' %eig_vecs)\n",
    "print('\\nEigenvalues \\n%s' %eig_vals)"
   ]
  },
  {
   "cell_type": "code",
   "execution_count": 5,
   "metadata": {},
   "outputs": [],
   "source": [
    "eig_pairs = [(np.abs(eig_vals[i]), eig_vecs[:,i]) for i in range(len(eig_vals))]"
   ]
  },
  {
   "cell_type": "code",
   "execution_count": 6,
   "metadata": {},
   "outputs": [],
   "source": [
    "eig_pairs.sort()\n",
    "eig_pairs.reverse()"
   ]
  },
  {
   "cell_type": "code",
   "execution_count": 7,
   "metadata": {},
   "outputs": [
    {
     "name": "stdout",
     "output_type": "stream",
     "text": [
      "Eigenvalues in descending order:\n",
      "8.273942580407862\n",
      "3.676129266797332\n",
      "0.7499281527948032\n"
     ]
    }
   ],
   "source": [
    "print('Eigenvalues in descending order:')\n",
    "for i in eig_pairs:\n",
    "    print(i[0])"
   ]
  },
  {
   "cell_type": "code",
   "execution_count": 8,
   "metadata": {},
   "outputs": [
    {
     "name": "stdout",
     "output_type": "stream",
     "text": [
      "Eigenvectors in descending order:\n",
      "[-0.1375708  -0.25045969  0.95830278]\n",
      "[0.69903712 0.66088917 0.27307986]\n",
      "[-0.70172743  0.70745703  0.08416157]\n"
     ]
    }
   ],
   "source": [
    "print('Eigenvectors in descending order:')\n",
    "for i in eig_pairs:\n",
    "    print(i[1])"
   ]
  },
  {
   "cell_type": "code",
   "execution_count": 9,
   "metadata": {},
   "outputs": [
    {
     "data": {
      "text/plain": [
       "array([-0.1375708 , -0.25045969,  0.95830278])"
      ]
     },
     "execution_count": 9,
     "metadata": {},
     "output_type": "execute_result"
    }
   ],
   "source": [
    "eig_pairs[0][1]"
   ]
  },
  {
   "cell_type": "code",
   "execution_count": 10,
   "metadata": {},
   "outputs": [
    {
     "name": "stdout",
     "output_type": "stream",
     "text": [
      "[[-2.15142276 -0.17311941  0.10681648]\n",
      " [ 3.80418259 -2.88749898  0.5104355 ]\n",
      " [ 0.15321328 -0.98688598  0.26941001]\n",
      " [-4.7065185   1.30153634  0.65167999]\n",
      " [ 1.29375788  2.27912632  0.44919235]\n",
      " [ 4.0993133   0.1435814  -0.80312818]\n",
      " [-1.62582148 -2.23208282  0.80281431]\n",
      " [ 2.11448986  3.2512433  -0.16837351]\n",
      " [-0.2348172   0.37304031  0.27513962]\n",
      " [-2.74637697 -1.06894049 -2.09398657]]\n"
     ]
    }
   ],
   "source": [
    "transformedData1 = np.matmul(meanAdjusted.T, eig_pairs[0][1])\n",
    "transformedData2 = np.matmul(meanAdjusted.T, eig_pairs[1][1])\n",
    "transformedData3 = np.matmul(meanAdjusted.T, eig_pairs[2][1])\n",
    "transformedData =[transformedData1,transformedData2,transformedData3]\n",
    "transformedData =np.transpose(transformedData)\n",
    "print(transformedData)"
   ]
  },
  {
   "cell_type": "code",
   "execution_count": null,
   "metadata": {},
   "outputs": [],
   "source": []
  }
 ],
 "metadata": {
  "kernelspec": {
   "display_name": "Python 3",
   "language": "python",
   "name": "python3"
  },
  "language_info": {
   "codemirror_mode": {
    "name": "ipython",
    "version": 3
   },
   "file_extension": ".py",
   "mimetype": "text/x-python",
   "name": "python",
   "nbconvert_exporter": "python",
   "pygments_lexer": "ipython3",
   "version": "3.7.1"
  }
 },
 "nbformat": 4,
 "nbformat_minor": 2
}
